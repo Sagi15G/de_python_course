{
  "nbformat": 4,
  "nbformat_minor": 0,
  "metadata": {
    "colab": {
      "name": "pandas_data_exploration.ipynb",
      "provenance": [],
      "authorship_tag": "ABX9TyOmlBe/GhFofHhEVEuN0TKz",
      "include_colab_link": true
    },
    "kernelspec": {
      "name": "python3",
      "display_name": "Python 3"
    },
    "language_info": {
      "name": "python"
    }
  },
  "cells": [
    {
      "cell_type": "markdown",
      "metadata": {
        "id": "view-in-github",
        "colab_type": "text"
      },
      "source": [
        "<a href=\"https://colab.research.google.com/github/Sagi15G/de_python_course/blob/main/pandas_data_exploration.ipynb\" target=\"_parent\"><img src=\"https://colab.research.google.com/assets/colab-badge.svg\" alt=\"Open In Colab\"/></a>"
      ]
    },
    {
      "cell_type": "markdown",
      "metadata": {
        "id": "sbmqjube0UAf"
      },
      "source": [
        "#Before we start..\n",
        "\n",
        "The most important thing you have to remember is that \n",
        "\n",
        "**you don't have to remember anything!**\n",
        "\n",
        "\n",
        "##When you have a question, just **GOOGLE** it  \n"
      ]
    },
    {
      "cell_type": "markdown",
      "metadata": {
        "id": "YUfjy1232CzN"
      },
      "source": [
        "#Agenda\n",
        "\n",
        "* Basic Concepts\n",
        "  * Pandas Series\n",
        "  * Pandas DataFrame\n",
        "\n",
        "* Data Extraction \n",
        "* Data Exploration\n",
        "* Basic Data Manipultaions\n"
      ]
    },
    {
      "cell_type": "markdown",
      "metadata": {
        "id": "52CcahBC3Lmm"
      },
      "source": [
        "# Basic Concepts"
      ]
    },
    {
      "cell_type": "code",
      "metadata": {
        "id": "K0eiuBHz0hTU"
      },
      "source": [
        "# It is very common to use the \"pd\" alias when importing pandas\n",
        "import pandas as pd\n",
        "\n",
        "\"\"\"\n",
        "Since pandas is a well maintained library, \n",
        "let's check the version that we are using so we can be specific when \n",
        "tyring to find a solution in Google\n",
        "\"\"\"\n",
        "pd.__version__\n"
      ],
      "execution_count": null,
      "outputs": []
    },
    {
      "cell_type": "markdown",
      "metadata": {
        "id": "pnOt3SDM7PNt"
      },
      "source": [
        "### Series\n",
        "**`Series`** in pandas is a representatin of a column.\n",
        "\n",
        "You can see a `Series` as a list of values\n",
        "\n",
        "[documentation](https://pandas.pydata.org/pandas-docs/stable/reference/api/pandas.Series.html) "
      ]
    },
    {
      "cell_type": "code",
      "metadata": {
        "id": "ikOY6Ep_9Rcz"
      },
      "source": [
        "# note that the dtype inferred from the data\n",
        "color_series = pd.Series(data=['Blue', 'Green', 'Red'])\n",
        "color_series"
      ],
      "execution_count": null,
      "outputs": []
    },
    {
      "cell_type": "code",
      "metadata": {
        "id": "Klwxeoq2_D6q"
      },
      "source": [
        "size_series = pd.Series(data=[4.5, 3, 2])\n",
        "size_series"
      ],
      "execution_count": null,
      "outputs": []
    },
    {
      "cell_type": "markdown",
      "metadata": {
        "id": "UttqONk8_alh"
      },
      "source": [
        "### DataFrame\n",
        "**`DataFrame`** in pandas is a representatin of a table.\n",
        "\n",
        "Each `DataFrame` contains one or more `Series` \n",
        "\n",
        "[documentation](https://pandas.pydata.org/pandas-docs/stable/reference/api/pandas.DataFrame.html) "
      ]
    },
    {
      "cell_type": "code",
      "metadata": {
        "id": "dc3g8_qC4aE2"
      },
      "source": [
        "# There are many ways to create a DataFrame\n",
        "# For example, here we use the Series objects from before\n",
        "my_df = pd.DataFrame( { 'color': color_series, 'size': size_series })\n",
        "my_df"
      ],
      "execution_count": null,
      "outputs": []
    },
    {
      "cell_type": "code",
      "metadata": {
        "id": "jqqV99IzCnHC"
      },
      "source": [
        "# Creating a DataFrame from list of lists\n",
        "\n",
        "# initialize list of lists\n",
        "list_of_lists = [['Tom', 10], ['Jerry', 15], ['Maya']]\n",
        "  \n",
        "# Create the pandas DataFrame\n",
        "pd.DataFrame(list_of_lists, columns = ['Name', 'Age'])"
      ],
      "execution_count": null,
      "outputs": []
    },
    {
      "cell_type": "markdown",
      "metadata": {
        "id": "5M77IIhODYfh"
      },
      "source": [
        "###Data Extraction\n",
        "One of the powerfull features of pandas is the simplicity of reading data from different sources.\n",
        "\n",
        "[read_csv](https://pandas.pydata.org/docs/reference/api/pandas.read_csv.html)\n",
        "\n",
        "[read_json](https://pandas.pydata.org/docs/reference/api/pandas.read_json.html)\n",
        "\n",
        "[read_sql](https://pandas.pydata.org/docs/reference/api/pandas.read_sql.html)"
      ]
    },
    {
      "cell_type": "markdown",
      "metadata": {
        "id": "b4qGqhOyEgeb"
      },
      "source": [
        "Let's clone into our machine some CSVs from github and load them into a DataFrame\n",
        "\n"
      ]
    },
    {
      "cell_type": "code",
      "metadata": {
        "id": "O2X9hdtDEwyd"
      },
      "source": [
        "# using \"!\" on this notebook will run a bash command\n",
        "! git clone https://github.com/Sagi15G/de_python_course.git"
      ],
      "execution_count": null,
      "outputs": []
    },
    {
      "cell_type": "code",
      "metadata": {
        "id": "gLEMavaNFI4h"
      },
      "source": [
        "# listing the files on our working directory to see the files\n",
        "!ls"
      ],
      "execution_count": null,
      "outputs": []
    },
    {
      "cell_type": "code",
      "metadata": {
        "id": "M0JVIxZHFm76"
      },
      "source": [
        "# this is the path of our course files\n",
        "!ls de_python_course/data/movies_csv/*"
      ],
      "execution_count": null,
      "outputs": []
    },
    {
      "cell_type": "code",
      "metadata": {
        "id": "vdz_TBi3FU5B"
      },
      "source": [
        "# quickly go over the README file\n",
        "!cat de_python_course/data/movies_csv/README.txt"
      ],
      "execution_count": null,
      "outputs": []
    },
    {
      "cell_type": "code",
      "metadata": {
        "id": "xWTrrTnBGXFf"
      },
      "source": [
        "# now that we have some files let's load one of them\n",
        "movies_df = pd.read_csv(filepath_or_buffer='de_python_course/data/movies_csv/movies.csv',sep=',')\n",
        "# head--> print the first rows (default as 5)\n",
        "movies_df.head()"
      ],
      "execution_count": null,
      "outputs": []
    },
    {
      "cell_type": "markdown",
      "metadata": {
        "id": "_0qW3xLiHS93"
      },
      "source": [
        "### Data Exploration\n"
      ]
    },
    {
      "cell_type": "code",
      "metadata": {
        "id": "KHTwWI_QHdR2"
      },
      "source": [
        "# Let's see some pandas functions that will help us to understand our data\n",
        "\n",
        "# info(). --> columns metadata\n",
        "movies_df.info()"
      ],
      "execution_count": null,
      "outputs": []
    },
    {
      "cell_type": "code",
      "metadata": {
        "id": "AaocwNbEH--1"
      },
      "source": [
        "# describe --> data basic statistics\n",
        "# note that in default we see only numeric columns\n",
        "movies_df.describe()"
      ],
      "execution_count": null,
      "outputs": []
    },
    {
      "cell_type": "code",
      "metadata": {
        "id": "CtvAhIlvIS-7"
      },
      "source": [
        "# using include='all' will show all the columns\n",
        "movies_df.describe(include='all')"
      ],
      "execution_count": null,
      "outputs": []
    },
    {
      "cell_type": "code",
      "metadata": {
        "id": "r2dS75vMJBfy"
      },
      "source": [
        "# another usefull function to start with is value_counts()\n",
        "\"\"\"\n",
        "same as this SQL command\n",
        "SELECT genres,COUNT(*)\n",
        "FROM movies_df\n",
        "GROUP BY genres\n",
        "\"\"\"\n",
        "\n",
        "movies_df[\"genres\"].value_counts()"
      ],
      "execution_count": null,
      "outputs": []
    },
    {
      "cell_type": "markdown",
      "metadata": {
        "id": "Y7z29umeJzAi"
      },
      "source": [
        "### Basic Data Manipulations"
      ]
    },
    {
      "cell_type": "code",
      "metadata": {
        "id": "NJ4zt2k4J52J"
      },
      "source": [
        "# let's fist load another data frame\n",
        "ratings_df = pd.read_csv(filepath_or_buffer='de_python_course/data/movies_csv/ratings.csv',sep=',')\n",
        "ratings_df.head(10)\n"
      ],
      "execution_count": null,
      "outputs": []
    },
    {
      "cell_type": "code",
      "metadata": {
        "id": "mWKTpUrdKuiL"
      },
      "source": [
        "# a quick exploration\n",
        "ratings_df.describe()"
      ],
      "execution_count": null,
      "outputs": []
    },
    {
      "cell_type": "code",
      "metadata": {
        "id": "sZwkV1_GKSbl"
      },
      "source": [
        "# accessing columns is pretty straightforward \n",
        "# for example, let's filter only movies with rating >=4\n",
        "ratings_df[ratings_df[\"rating\"] >= 4].head()"
      ],
      "execution_count": null,
      "outputs": []
    },
    {
      "cell_type": "code",
      "metadata": {
        "id": "vW-7Qp4LLhtn"
      },
      "source": [
        "# now let's add a new column that will show us timestamp as a datetime object\n",
        "ratings_df['timestamp_as_datetime'] = pd.to_datetime(ratings_df['timestamp'],unit='s')\n",
        "ratings_df.head()\n",
        "\n"
      ],
      "execution_count": null,
      "outputs": []
    },
    {
      "cell_type": "code",
      "metadata": {
        "id": "HvCTyzzPM9Cx"
      },
      "source": [
        "# let's calculate the average rating per year\n",
        "ratings_df.groupby(ratings_df[\"timestamp_as_datetime\"].dt.year, sort=True)[\"rating\"].mean()"
      ],
      "execution_count": null,
      "outputs": []
    },
    {
      "cell_type": "code",
      "metadata": {
        "id": "JRYYW5mXOjSN"
      },
      "source": [
        "# A spoiler of the next sessions: why not plotting it?\n",
        "ratings_df.groupby(ratings_df[\"timestamp_as_datetime\"].dt.year, sort=True)[\"rating\"].mean().plot()"
      ],
      "execution_count": null,
      "outputs": []
    },
    {
      "cell_type": "markdown",
      "metadata": {
        "id": "Qj6SinTiPF0X"
      },
      "source": [
        "### Summary\n",
        "There are multiple ways to work with pandas\n",
        "\n",
        "Don't try to remember them, just Google your need and save precious time (:"
      ]
    }
  ]
}