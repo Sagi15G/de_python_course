{
  "nbformat": 4,
  "nbformat_minor": 0,
  "metadata": {
    "colab": {
      "name": "pandas_transform_and_visualize_dataset.ipynb",
      "provenance": [],
      "collapsed_sections": [
        "PHMhYn4fSyBK",
        "_Fb3HrRFUlwp",
        "R2PAWJfOXIMC"
      ],
      "authorship_tag": "ABX9TyORQVGQX/2LT/po7qoSaQi9",
      "include_colab_link": true
    },
    "kernelspec": {
      "name": "python3",
      "display_name": "Python 3"
    },
    "language_info": {
      "name": "python"
    }
  },
  "cells": [
    {
      "cell_type": "markdown",
      "metadata": {
        "id": "view-in-github",
        "colab_type": "text"
      },
      "source": [
        "<a href=\"https://colab.research.google.com/github/Sagi15G/de_python_course/blob/main/pandas_transform_and_visualize_dataset.ipynb\" target=\"_parent\"><img src=\"https://colab.research.google.com/assets/colab-badge.svg\" alt=\"Open In Colab\"/></a>"
      ]
    },
    {
      "cell_type": "markdown",
      "metadata": {
        "id": "aMlpg2EMdHqY"
      },
      "source": [
        "# Transform your data"
      ]
    },
    {
      "cell_type": "markdown",
      "metadata": {
        "id": "9784aICb4kkR"
      },
      "source": [
        "This session assumes you went over the pandas lessons in Kaggle: link: https://www.kaggle.com/learn/pandas\n",
        "* lesson 1: Creating, Reading and Writing: https://www.kaggle.com/residentmario/creating-reading-and-writing\n",
        "* lesson 2: Indexing, Selecting & Assigning: https://www.kaggle.com/residentmario/indexing-selecting-assigning \n",
        "* lesson 3: Summary Functions and Maps: https://www.kaggle.com/residentmario/summary-functions-and-maps\n",
        "* lesson 4: Grouping and Sorting: https://www.kaggle.com/residentmario/grouping-and-sorting\n",
        "* lesson 5: Data Types and Missing Values: https://www.kaggle.com/residentmario/data-types-and-missing-values\n",
        "* lesson 6: Renaming and Combining: https://www.kaggle.com/residentmario/renaming-and-combining "
      ]
    },
    {
      "cell_type": "code",
      "metadata": {
        "id": "TlxNo4YaajzF"
      },
      "source": [
        "import pandas as pd"
      ],
      "execution_count": 1,
      "outputs": []
    },
    {
      "cell_type": "markdown",
      "metadata": {
        "id": "5pH5-45xfnp2"
      },
      "source": [
        "## Basic Skills\n",
        "Before we start, let's go over some important pandas skills we'll be using:\n",
        "\n",
        "- Sorting\n",
        "- Dropping missing values\n",
        "- Checking for duplicates\n",
        "- Joining\n",
        "- Group by\n"
      ]
    },
    {
      "cell_type": "code",
      "metadata": {
        "id": "aCcOosYJghqY"
      },
      "source": [
        "# Define a sample dataframe:\n",
        "\n",
        "list_of_lists = [\n",
        "    ['Tom', 10, 'Tel Aviv'], \n",
        "    ['Jerry', 15, 'Tel Aviv'], \n",
        "    ['Ben', 21, 'Nahariyya'],\n",
        "    ['Jerry', 22, 'Nahariyya'],\n",
        "    ['Michal', 25, 'Eilat'],\n",
        "    ['Maya'],\n",
        "    ['Maya', 3],\n",
        "]\n",
        "  \n",
        "# Create the pandas DataFrame\n",
        "df = pd.DataFrame(list_of_lists, columns = ['Name', 'Age', 'City'])\n",
        "\n",
        "# Look at a sample of the data\n",
        "df.head()"
      ],
      "execution_count": null,
      "outputs": []
    },
    {
      "cell_type": "markdown",
      "metadata": {
        "id": "NwbD-bTt5WwT"
      },
      "source": [
        "###**Sort**\n",
        "\n",
        "Documentation: \n",
        "* https://pandas.pydata.org/pandas-docs/stable/reference/api/pandas.DataFrame.sort_values.html\n",
        "* https://pandas.pydata.org/docs/reference/api/pandas.DataFrame.sort_index.html"
      ]
    },
    {
      "cell_type": "code",
      "metadata": {
        "id": "h9WmiB5yf9SK"
      },
      "source": [
        "# Sorting by a numeric column\n",
        "df = df.sort_values(by=['Age'])\n",
        "print(\"Sorting by age:\")\n",
        "print(df, \"\\n\")\n",
        "\n",
        "# Sorting by a numeric column: high to low\n",
        "df = df.sort_values(by=['Age'], ascending=False)\n",
        "print(\"Sorting by age: high to low\")\n",
        "print(df, \"\\n\")\n",
        "\n",
        "# Sorting by a textual column\n",
        "df = df.sort_values(by=['Name'])\n",
        "print(\"Sorting by name:\")\n",
        "print(df, \"\\n\")\n",
        "\n",
        "# Sort by index column\n",
        "df = df.sort_index()\n",
        "print(\"Sorting by index:\")\n",
        "print(df, \"\\n\")"
      ],
      "execution_count": null,
      "outputs": []
    },
    {
      "cell_type": "markdown",
      "metadata": {
        "id": "lxZTgCA16S2L"
      },
      "source": [
        "###**Drop missing values**\n",
        "* Documentation: https://pandas.pydata.org/pandas-docs/stable/reference/api/pandas.DataFrame.dropna.html"
      ]
    },
    {
      "cell_type": "code",
      "metadata": {
        "id": "K04g2Dl4gWLD"
      },
      "source": [
        "# Show nulls\n",
        "df_v1 = df.isna()\n",
        "print(\"Is this value missing from the df?\")\n",
        "print(df_v1, \"\\n\")\n",
        "\n",
        "# Drop all missing values\n",
        "# We had missing age and city values, all were dropped\n",
        "df_v2 = df.dropna()\n",
        "print(\"Drop all missing values\")\n",
        "print(df_v2, \"\\n\")\n",
        "\n",
        "# Drop missing from specific column\n",
        "df_v3 = df.dropna(subset=['Age'])\n",
        "print(\"Drop missing ages only\")\n",
        "print(df_v3, \"\\n\")\n"
      ],
      "execution_count": null,
      "outputs": []
    },
    {
      "cell_type": "markdown",
      "metadata": {
        "id": "sYzts1WA7KDs"
      },
      "source": [
        "###**Check for duplicate values**\n",
        "* Documentation: https://pandas.pydata.org/pandas-docs/stable/reference/api/pandas.DataFrame.duplicated.html"
      ]
    },
    {
      "cell_type": "code",
      "metadata": {
        "id": "XjlK24HYf9tD"
      },
      "source": [
        "# Do we have duplicated rows? (single answer)\n",
        "print(\"Do we have duplicate rows? (returning a single answer)\")\n",
        "boolean_answer = df.duplicated().any()\n",
        "print(boolean_answer, \"\\n\")\n",
        "\n",
        "# Do we have duplicated rows? (answer per row)\n",
        "print(\"Do we have duplicate rows? (Return a series specifying if a row is a duplicate)\")\n",
        "df_v1 = df.duplicated()\n",
        "print(df_v1, \"\\n\")\n",
        "\n",
        "# Do we have duplicated values in a specific column? (column: Name)\n",
        "print(\"Do we have duplicated values in the 'Name' column?\")\n",
        "boolean_answer = df.Name.duplicated().any()\n",
        "print(boolean_answer, \"\\n\")\n",
        "\n",
        "# What duplicate values does the column \"Name\" have?\n",
        "print(\"What are the duplicated values?\")\n",
        "print(df.Name[df.Name.duplicated()], \"\\n\")\n"
      ],
      "execution_count": null,
      "outputs": []
    },
    {
      "cell_type": "markdown",
      "metadata": {
        "id": "SJB7yKKH8ANs"
      },
      "source": [
        "###**Join**\n",
        "* Documentation: https://pandas.pydata.org/docs/reference/api/pandas.DataFrame.join.html"
      ]
    },
    {
      "cell_type": "code",
      "metadata": {
        "id": "xQ_7eHwq0Gxo"
      },
      "source": [
        "# Let's define an additional dataframe\n",
        "\n",
        "cities = [\n",
        "    ['Nahariyya', 'North', 58000], \n",
        "    ['Tel Aviv-Yafo', 'Center', 435900], \n",
        "    ['Beer Sheva', 'South', 205000], \n",
        "    ['Eilat', 'South', 52000],\n",
        "]\n",
        "  \n",
        "# Create the pandas DataFrame\n",
        "df2 = pd.DataFrame(cities, columns = ['City', 'Area', 'Population'])\n",
        "\n",
        "# Look at a sample of the data\n",
        "df2.head()"
      ],
      "execution_count": null,
      "outputs": []
    },
    {
      "cell_type": "code",
      "metadata": {
        "id": "q4OVhJ1CJlZF"
      },
      "source": [
        "df.head()"
      ],
      "execution_count": null,
      "outputs": []
    },
    {
      "cell_type": "code",
      "metadata": {
        "id": "Le_K9uGzf9kG"
      },
      "source": [
        "# Join each person in df with info about the city where they live\n",
        "\n",
        "# Inner Join \n",
        "print(\"Inner join: return only rows that exist in both datasets\")\n",
        "print(df.join(df2.set_index('City'), on='City',  how='inner'), \"\\n\")\n",
        "\n",
        "# Left Join \n",
        "print(\"Left join: return all rows that exist in df, and rows in df2 if they match\")\n",
        "print(df.join(df2.set_index('City'), on='City',  how='left'), \"\\n\")\n",
        "\n",
        "# Full Outer Join \n",
        "print(\"Outer join: rows that exist in either dataset\")\n",
        "print(df.join(df2.set_index('City'), on='City',  how='outer'), \"\\n\")\n"
      ],
      "execution_count": null,
      "outputs": []
    },
    {
      "cell_type": "markdown",
      "metadata": {
        "id": "onw1piPm8rEJ"
      },
      "source": [
        "###**Group by**\n",
        "* Documentation: https://pandas.pydata.org/pandas-docs/stable/reference/api/pandas.DataFrame.groupby.html\n"
      ]
    },
    {
      "cell_type": "code",
      "metadata": {
        "id": "rkAuKTvVf91V"
      },
      "source": [
        "# How many people live in a city with a population of > 55K?\n",
        "\n",
        "# 1. Let's edit df2's city names to align with df1\n",
        "print(\"Changing city name to enable matching between datasets:\")\n",
        "df2.City.iloc[1] = 'Tel Aviv'\n",
        "print(df2, \"\\n\")\n",
        "\n",
        "# 2.Left join between the datasets\n",
        "print(\"Left join df with df2\")\n",
        "df3 = df.join(df2.set_index('City'), on='City',  how='left') \n",
        "print(df3, \"\\n\")\n",
        "\n",
        "#3. Keep rows with population > 55K in dataset\n",
        "print(\"Keep values with population > 55K\")\n",
        "df3 = df3[df3['Population'] > 55000]\n",
        "print(df3, \"\\n\")\n",
        "\n",
        "\n",
        "# 3. Group by city and count results\n",
        "print(\"Group by 'City' and count results\")\n",
        "df3 = df3.groupby(['City']).size()\n",
        "print(df3, \"\\n\")\n"
      ],
      "execution_count": null,
      "outputs": []
    },
    {
      "cell_type": "markdown",
      "metadata": {
        "id": "Aflh_50O9bZX"
      },
      "source": [
        "## Transforming The Movie Datasets\n",
        "\n",
        "In the following lesson, we'll use pandas to transform the movies dataset we explored last lesson into a more usable version.\n",
        "\n",
        "We'll focus on several skills:\n",
        "* Cleanig our data\n",
        "* Asking questions about the data\n",
        "* Changing the data to support analysis\n",
        "* Using the data to answer our questions"
      ]
    },
    {
      "cell_type": "markdown",
      "metadata": {
        "id": "oBJMGC1D-OJy"
      },
      "source": [
        "**Loading the data**"
      ]
    },
    {
      "cell_type": "markdown",
      "metadata": {
        "id": "bO0biYo5ZZUm"
      },
      "source": [
        "last lesson, we loaded each csv into a separate df and examined it. This time let's be more organized by creating one dictionary to store all the different dataframes.\n",
        "\n",
        "dataframes is a dictionary:\n",
        "* dataframes['movies'] will contain movies.csv\n",
        "* dataframes['ratings'] will contain ratings.csv \n",
        "and so on"
      ]
    },
    {
      "cell_type": "code",
      "metadata": {
        "id": "hkZG2QGSY9JY",
        "colab": {
          "base_uri": "https://localhost:8080/",
          "height": 198
        },
        "outputId": "f43c562d-eed6-48db-af0c-99cd17e6be63"
      },
      "source": [
        "# define a single dictionary to store all the datasets\n",
        "dataframes = {}\n",
        "\n",
        "# load each of the datasets into the dictionary\n",
        "for csv_name in ['ratings', 'tags', 'movies', 'links']:\n",
        "  dataframes['{}'.format(csv_name)] = pd.read_csv(filepath_or_buffer='https://raw.githubusercontent.com/Sagi15G/de_python_course/main/data/movies_csv/{}.csv'.format(csv_name),sep=',')\n",
        "\n",
        "# example for accessing a single df:\n",
        "dataframes['movies'].head()"
      ],
      "execution_count": 2,
      "outputs": [
        {
          "output_type": "execute_result",
          "data": {
            "text/html": [
              "<div>\n",
              "<style scoped>\n",
              "    .dataframe tbody tr th:only-of-type {\n",
              "        vertical-align: middle;\n",
              "    }\n",
              "\n",
              "    .dataframe tbody tr th {\n",
              "        vertical-align: top;\n",
              "    }\n",
              "\n",
              "    .dataframe thead th {\n",
              "        text-align: right;\n",
              "    }\n",
              "</style>\n",
              "<table border=\"1\" class=\"dataframe\">\n",
              "  <thead>\n",
              "    <tr style=\"text-align: right;\">\n",
              "      <th></th>\n",
              "      <th>movieId</th>\n",
              "      <th>title</th>\n",
              "      <th>genres</th>\n",
              "    </tr>\n",
              "  </thead>\n",
              "  <tbody>\n",
              "    <tr>\n",
              "      <th>0</th>\n",
              "      <td>1</td>\n",
              "      <td>Toy Story (1995)</td>\n",
              "      <td>Adventure|Animation|Children|Comedy|Fantasy</td>\n",
              "    </tr>\n",
              "    <tr>\n",
              "      <th>1</th>\n",
              "      <td>2</td>\n",
              "      <td>Jumanji (1995)</td>\n",
              "      <td>Adventure|Children|Fantasy</td>\n",
              "    </tr>\n",
              "    <tr>\n",
              "      <th>2</th>\n",
              "      <td>3</td>\n",
              "      <td>Grumpier Old Men (1995)</td>\n",
              "      <td>Comedy|Romance</td>\n",
              "    </tr>\n",
              "    <tr>\n",
              "      <th>3</th>\n",
              "      <td>4</td>\n",
              "      <td>Waiting to Exhale (1995)</td>\n",
              "      <td>Comedy|Drama|Romance</td>\n",
              "    </tr>\n",
              "    <tr>\n",
              "      <th>4</th>\n",
              "      <td>5</td>\n",
              "      <td>Father of the Bride Part II (1995)</td>\n",
              "      <td>Comedy</td>\n",
              "    </tr>\n",
              "  </tbody>\n",
              "</table>\n",
              "</div>"
            ],
            "text/plain": [
              "   movieId  ...                                       genres\n",
              "0        1  ...  Adventure|Animation|Children|Comedy|Fantasy\n",
              "1        2  ...                   Adventure|Children|Fantasy\n",
              "2        3  ...                               Comedy|Romance\n",
              "3        4  ...                         Comedy|Drama|Romance\n",
              "4        5  ...                                       Comedy\n",
              "\n",
              "[5 rows x 3 columns]"
            ]
          },
          "metadata": {
            "tags": []
          },
          "execution_count": 2
        }
      ]
    },
    {
      "cell_type": "markdown",
      "metadata": {
        "id": "nlzSbGuuc_7l"
      },
      "source": [
        "### Step 1: Cleaning up the dataset"
      ]
    },
    {
      "cell_type": "markdown",
      "metadata": {
        "id": "Htb5n221dUTd"
      },
      "source": [
        "We want to clean up the 'movies' data so it will be easier to use later on in our analysis. In order to do this, let's look at the data and imagine edge cases it may have. Let's frame these edge cases as questions and answer them. \n",
        "\n",
        "Some examples:\n",
        "* Do we have missing titles? genres?\n",
        "* Do we have upper/lower case issues with titles?\n",
        "* Can we have multiple rows for a single movie title?\n",
        "* Is each movie id unique?\n",
        "* Do all movies have year information?\n",
        "* Do all years make sense?\n",
        "* Do we have the same movie names for different years?\n",
        "\n",
        "Do you have additional questions you want to ask?"
      ]
    },
    {
      "cell_type": "markdown",
      "metadata": {
        "id": "GxxNfYBdZJ1D"
      },
      "source": [
        "####**Do we have missing titles/genres?**"
      ]
    },
    {
      "cell_type": "code",
      "metadata": {
        "id": "IbcpJPCoRGfQ"
      },
      "source": [
        "# do we have missing values\n",
        "print(\"Are 'title' values missing?\")\n",
        "print(dataframes['movies'].title.isna().any(), \"\\n\")\n",
        "\n",
        "print(\"Are 'genre' values missing?\")\n",
        "print(dataframes['movies'].genres.isna().any(), \"\\n\")\n",
        "\n",
        "# Can genre values have blank spaces?\n",
        "print(\"Are there 'genre' values with blank spaces?\")\n",
        "print(dataframes['movies'][dataframes['movies']['genres'].str.contains(\" \")].head(), \"\\n\")"
      ],
      "execution_count": null,
      "outputs": []
    },
    {
      "cell_type": "code",
      "metadata": {
        "id": "jT9ruDn5YTMG"
      },
      "source": [
        "# Let's rename the missing genres as an 'unknown' genre using a lambda function\n",
        "# Documentation: https://pandas.pydata.org/docs/reference/api/pandas.DataFrame.apply.html\n",
        "\n",
        "dataframes['movies']['genres'] = dataframes['movies']['genres'].apply(lambda x: x if x != \"(no genres listed)\" else \"unknown\")\n",
        "\n",
        "dataframes['movies'][dataframes['movies']['genres'].str.contains(\"unknown\")].head()"
      ],
      "execution_count": null,
      "outputs": []
    },
    {
      "cell_type": "markdown",
      "metadata": {
        "id": "_NctwTZ7n9DY"
      },
      "source": [
        "####**Do we have upper/lower case issues with titles?**"
      ]
    },
    {
      "cell_type": "code",
      "metadata": {
        "id": "MY-djH_CoUUK"
      },
      "source": [
        "# Our titles are case sensitive - let's change that!\n",
        "dataframes['movies']['title'] = dataframes['movies']['title'].str.lower()\n",
        "\n",
        "dataframes['movies'].head()"
      ],
      "execution_count": null,
      "outputs": []
    },
    {
      "cell_type": "markdown",
      "metadata": {
        "id": "xuDhPJMBZQGq"
      },
      "source": [
        "####**Do we have duplicate rows for a movie title?**"
      ]
    },
    {
      "cell_type": "code",
      "metadata": {
        "id": "_wkD3R3LcEnk"
      },
      "source": [
        "# Do we have duplicate rows for a movie title?\n",
        "print(\"Is there a movie title with more than one row?\")\n",
        "dataframes['movies'].title.duplicated().any()\n"
      ],
      "execution_count": null,
      "outputs": []
    },
    {
      "cell_type": "code",
      "metadata": {
        "id": "vVwBPE2ybE4i"
      },
      "source": [
        "# Which rows have duplicated titles?\n",
        "dataframes['movies'].title.value_counts()"
      ],
      "execution_count": null,
      "outputs": []
    },
    {
      "cell_type": "code",
      "metadata": {
        "id": "kg6gLGukbNrC"
      },
      "source": [
        "# Let's return dataframe rows where we have duplicated titles:\n",
        "\n",
        "titles = dataframes['movies']['title']\n",
        "duplicates = dataframes['movies'][titles.isin(titles[titles.duplicated()])]\n",
        "duplicates.sort_values(by=[\"title\"])\n",
        "\n",
        "# The difference seems to be the number of genres!"
      ],
      "execution_count": null,
      "outputs": []
    },
    {
      "cell_type": "code",
      "metadata": {
        "id": "vOdybV30lVT_"
      },
      "source": [
        "# Keep one row per duplicated title\n",
        "# Documentation: https://pandas.pydata.org/docs/reference/api/pandas.DataFrame.drop_duplicates.html\n",
        "\n",
        "# Keep only one row for each duplicated value using drop_duplicates\n",
        "dataframes['movies'] = dataframes['movies'].drop_duplicates(subset=['title'], keep='last')\n",
        "\n",
        "print(\"Is there a movie title with more than one row now?\")\n",
        "dataframes['movies'].title.duplicated().any()\n",
        "\n",
        "# Ideally, we'd do something smarter, like keep the rows with more genre information. You can try it yourself..."
      ],
      "execution_count": null,
      "outputs": []
    },
    {
      "cell_type": "markdown",
      "metadata": {
        "id": "bgTgdaiDs5Rw"
      },
      "source": [
        "####**Is each movie id unique?**"
      ]
    },
    {
      "cell_type": "code",
      "metadata": {
        "id": "peyJ1IpBs_eC"
      },
      "source": [
        "# Is each movie id unique?\n",
        "dataframes['movies']['movieId'].value_counts().max()"
      ],
      "execution_count": null,
      "outputs": []
    },
    {
      "cell_type": "code",
      "metadata": {
        "id": "hauu3COjQCF3"
      },
      "source": [
        "dataframes['movies'].head()"
      ],
      "execution_count": null,
      "outputs": []
    },
    {
      "cell_type": "markdown",
      "metadata": {
        "id": "RRO41v-1qLSh"
      },
      "source": [
        "####**Do all movies have year information?**"
      ]
    },
    {
      "cell_type": "code",
      "metadata": {
        "id": "qPX11LHYnV-1"
      },
      "source": [
        "# we'll add the 'has_year' column with True/False values based on the title string\n",
        "dataframes['movies']['has_year'] = dataframes['movies']['title'].apply(lambda x: x.split()[-1].strip(\"()\").isnumeric())\n",
        "\n",
        "# movies that don't have year information\n",
        "dataframes['movies'][~dataframes['movies']['has_year']]"
      ],
      "execution_count": null,
      "outputs": []
    },
    {
      "cell_type": "markdown",
      "metadata": {
        "id": "FtigEuGgtaGo"
      },
      "source": [
        "####**Do all years make sense?**"
      ]
    },
    {
      "cell_type": "code",
      "metadata": {
        "id": "c5rjmR3-ktSU"
      },
      "source": [
        "# Let's add a year column to the dataset \n",
        "\n",
        "# Create a year column assuming title format is: <some string> (year)\n",
        "# If the year string is available, use it, otherwise set year = -1\n",
        "dataframes['movies']['year'] = dataframes['movies'][['title','has_year']].apply(lambda x: int(x[0].split()[-1].strip(\"()\")) if x[1] else -1,  axis=1)\n",
        "\n",
        "# Sample results:\n",
        "dataframes['movies'][dataframes['movies']['has_year']].head()\n"
      ],
      "execution_count": null,
      "outputs": []
    },
    {
      "cell_type": "code",
      "metadata": {
        "id": "2YDnUyCetkSr"
      },
      "source": [
        "# what's the minimal year?\n",
        "has_year = dataframes['movies'][dataframes['movies']['has_year']]\n",
        "has_year.sort_values(by=['year']).head()"
      ],
      "execution_count": null,
      "outputs": []
    },
    {
      "cell_type": "code",
      "metadata": {
        "id": "jtHSNjStvG-9"
      },
      "source": [
        "# update the year calculation to only use 4-digit years\n",
        "def title_contains_year(x):\n",
        "  year_string = x.split()[-1].strip(\"()\")\n",
        "  return year_string.isnumeric() and len(year_string) == 4\n",
        "\n",
        "# recalculate has_year and year\n",
        "dataframes['movies']['has_year'] = dataframes['movies']['title'].apply(lambda x: title_contains_year(x))\n",
        "dataframes['movies']['year'] = dataframes['movies'][['title','has_year']].apply(lambda x: int(x[0].split()[-1].strip(\"()\")) if x[1] else -1,  axis=1)"
      ],
      "execution_count": null,
      "outputs": []
    },
    {
      "cell_type": "code",
      "metadata": {
        "id": "X6HY4wWOtklG"
      },
      "source": [
        "# what's the minimal year now?\n",
        "has_year = dataframes['movies'][dataframes['movies']['has_year']]\n",
        "has_year.sort_values(by=['year']).head()"
      ],
      "execution_count": null,
      "outputs": []
    },
    {
      "cell_type": "markdown",
      "metadata": {
        "id": "kUv07dp2zxp-"
      },
      "source": [
        "### Step 2: Asking questions about the data"
      ]
    },
    {
      "cell_type": "markdown",
      "metadata": {
        "id": "ZIC98BCW2lDc"
      },
      "source": [
        "* Do we have movies with foreign titles?\n",
        "* Can one movie appear with multiple years in our data?\n",
        "* What is the average rating per movie title?\n",
        "* Do recent movies have more ratings on avg than older movies?\n",
        "* Does positive/negative sentiment towards a movie in the 'tags' dataset translate to high/low average rating?"
      ]
    },
    {
      "cell_type": "markdown",
      "metadata": {
        "id": "6kpsu5EX4AJS"
      },
      "source": [
        "### Steps 3+4: Changing the data to support analysis & Using the data to answer our questions"
      ]
    },
    {
      "cell_type": "markdown",
      "metadata": {
        "id": "wxqpuCrc4tn5"
      },
      "source": [
        "####**Do we have movies with foreign titles?**"
      ]
    },
    {
      "cell_type": "code",
      "metadata": {
        "id": "_mrgY0TrnTtG"
      },
      "source": [
        "# Do we have movies in other languages?\n",
        "# Documentation: https://docs.python.org/3/library/stdtypes.html\n",
        "\n",
        "# Define a function checking whether all values \n",
        "def isEnglish(s):\n",
        "    return s.isascii()\n",
        "\n",
        "# Define is_english column by applying the function to each tite\n",
        "dataframes['movies']['is_english'] = dataframes['movies']['title'].apply(lambda x: isEnglish(x))\n",
        "\n",
        "# Display a sample of the results\n",
        "print(\"Non-english titles:\")\n",
        "dataframes['movies'][~dataframes['movies']['is_english']].head()"
      ],
      "execution_count": null,
      "outputs": []
    },
    {
      "cell_type": "markdown",
      "metadata": {
        "id": "I4pRtpFI5CE4"
      },
      "source": [
        "####**Can one movie appear with multiple years in our data?**"
      ]
    },
    {
      "cell_type": "code",
      "metadata": {
        "id": "oZM7NuVYuPnV"
      },
      "source": [
        "# Create a new column containing the title name with no year\n",
        "dataframes['movies']['movie_name'] = dataframes['movies'][['title','has_year']].apply(lambda x: \" \".join(x[0].split()[:-1]) if x[1] else x[0],  axis=1)\n",
        "\n",
        "# Sample results:\n",
        "dataframes['movies'][dataframes['movies']['has_year']].head()"
      ],
      "execution_count": null,
      "outputs": []
    },
    {
      "cell_type": "code",
      "metadata": {
        "id": "4t2EvRkx3IIB"
      },
      "source": [
        "# do we have the same movie names for different years?\n",
        "\n",
        "movie_names = dataframes['movies'].groupby(['movie_name']).size() \n",
        "movie_names.loc[movie_names.values>1].sort_values(ascending=False)"
      ],
      "execution_count": null,
      "outputs": []
    },
    {
      "cell_type": "code",
      "metadata": {
        "id": "gLPwKP6D6Bho"
      },
      "source": [
        "# let's look at an example from the dataset:\n",
        "dataframes['movies'][dataframes['movies']['movie_name'] == 'hamlet']"
      ],
      "execution_count": null,
      "outputs": []
    },
    {
      "cell_type": "markdown",
      "metadata": {
        "id": "-uDiXr2JnRwn"
      },
      "source": [
        "####**What is the average rating per movie title?**"
      ]
    },
    {
      "cell_type": "code",
      "metadata": {
        "id": "A-VMoJ0bUjvT"
      },
      "source": [
        "dataframes['ratings'].head()"
      ],
      "execution_count": null,
      "outputs": []
    },
    {
      "cell_type": "code",
      "metadata": {
        "id": "f21MEtyf6Uwx"
      },
      "source": [
        "# We'll finally use the ratings dataset! \n",
        "# Let's validate all rows have ratings\n",
        "print(\"Are there rows with missing ratings?\")\n",
        "print(dataframes['ratings']['rating'].isna().any())\n",
        "\n",
        "print(\"What is the min rating in the dataset?\")\n",
        "print(dataframes['ratings']['rating'].min())\n",
        "\n",
        "print(\"What is the max rating in the dataset?\")\n",
        "print(dataframes['ratings']['rating'].max())\n"
      ],
      "execution_count": null,
      "outputs": []
    },
    {
      "cell_type": "code",
      "metadata": {
        "id": "r2DjRIPbDPpk"
      },
      "source": [
        "# get avg rating per movie\n",
        "print(\"Get mean rating per movie\")\n",
        "mean_rating = dataframes['ratings'][['movieId', 'rating']].groupby(['movieId']).mean()\n",
        "print(mean_rating.head(), \"\\n\")\n",
        "\n",
        "# round avg rating to nearest 0.1 value\n",
        "# Documentation: https://pandas.pydata.org/docs/reference/api/pandas.DataFrame.round.html\n",
        "print(\"Rounding to nearest 0.1 value\")\n",
        "mean_rating = mean_rating.round(decimals=1)\n",
        "print(mean_rating.head(), \"\\n\")"
      ],
      "execution_count": null,
      "outputs": []
    },
    {
      "cell_type": "code",
      "metadata": {
        "id": "iHzIYye8G2ud"
      },
      "source": [
        "# Match each movie with the avg rating and store in a new dataset\n",
        "\n",
        "# Left Join (add 'rating' to 'movies' df)\n",
        "dataframes['combined'] = dataframes['movies'].join(mean_rating, on='movieId',  how='left')\n",
        "\n",
        "# Rename the 'rating' column to 'mean_rating'\n",
        "dataframes['combined'] = dataframes['combined'].rename(columns={'rating':'mean_rating'})\n",
        "\n",
        "# Display a sample of the data\n",
        "dataframes['combined'].head()"
      ],
      "execution_count": null,
      "outputs": []
    },
    {
      "cell_type": "markdown",
      "metadata": {
        "id": "Gxg0oUTz8UuI"
      },
      "source": [
        "####**Do recent movies have more ratings on avg than older movies?**"
      ]
    },
    {
      "cell_type": "code",
      "metadata": {
        "id": "dXvlTITM6U0R"
      },
      "source": [
        "# Get number of ratings per movie\n",
        "print(\"Get number of ratings per movie\")\n",
        "num_ratings = dataframes['ratings'][['movieId', 'rating']].groupby(['movieId']).size()\n",
        "num_ratings = num_ratings.to_frame('num_ratings')\n",
        "num_ratings.head()"
      ],
      "execution_count": null,
      "outputs": []
    },
    {
      "cell_type": "code",
      "metadata": {
        "id": "6lJ0o5_j8z5f"
      },
      "source": [
        "# Match each movie with the number of ratings it had\n",
        "\n",
        "# Left Join to add number of ratings to 'movies' df\n",
        "dataframes['combined'] = dataframes['combined'].join(num_ratings, on='movieId',  how='left')\n",
        "\n",
        "# Display a sample of the data\n",
        "dataframes['combined'].head()"
      ],
      "execution_count": null,
      "outputs": []
    },
    {
      "cell_type": "code",
      "metadata": {
        "id": "4cQIlJNh9Yrl"
      },
      "source": [
        "# define movie year buckets\n",
        "\n",
        "def year_bucket(year):\n",
        "  if year == -1:\n",
        "    return 'unknown_year'\n",
        "  elif year < 1960:\n",
        "    return '1960-'\n",
        "  elif year >= 1960 and year < 1970:\n",
        "    return '1960-1970'\n",
        "  elif year >= 1970 and year < 1980:\n",
        "    return '1970-1980'\n",
        "  elif year >= 1980 and year < 1990:\n",
        "    return '1980-1990'\n",
        "  elif year >= 1990 and year < 2000:\n",
        "    return '1990-2000'\n",
        "  elif year >= 2000 and year < 2010:\n",
        "    return '2000-2010'\n",
        "  else:\n",
        "    return '2010+'\n",
        "\n",
        "dataframes['combined']['year_bucket'] = dataframes['combined']['year'].apply(lambda x: year_bucket(x))\n",
        "dataframes['combined'].head()"
      ],
      "execution_count": null,
      "outputs": []
    },
    {
      "cell_type": "code",
      "metadata": {
        "id": "5DF2eeTI_MGn"
      },
      "source": [
        "dataframes['combined'][['year_bucket', 'num_ratings']].groupby('year_bucket').mean()"
      ],
      "execution_count": null,
      "outputs": []
    },
    {
      "cell_type": "markdown",
      "metadata": {
        "id": "uezm2FpJAb9m"
      },
      "source": [
        "####**Does positive/negative sentiment towards a movie in the 'tags' dataset translate to high/low average rating?**"
      ]
    },
    {
      "cell_type": "code",
      "metadata": {
        "id": "owJ0d_NBAmGf"
      },
      "source": [
        "# Let's take a look at the tags data\n",
        "dataframes['tags'].head()"
      ],
      "execution_count": null,
      "outputs": []
    },
    {
      "cell_type": "code",
      "metadata": {
        "id": "8SOnPgeZAx1K"
      },
      "source": [
        "# Our simplistic hypothesis here would be that we can define a set of positive and negative words. \n",
        "# If a \"tag\" contains a negative word, it conveys negative sentiment towards the movie\n",
        "# If a \"tag\" contains a positive word, it conveys positive sentiment towards the movie\n",
        "\n",
        "# Define a list of words:\n",
        "negative_words = [\"bad\", \"not\", \"terrible\", \"horrible\"]\n",
        "positive_words = [\"great\", \"good\", \"loved\", \"like\", \"fun\", \"funny\"]"
      ],
      "execution_count": null,
      "outputs": []
    },
    {
      "cell_type": "code",
      "metadata": {
        "id": "yAL0ckp80kro"
      },
      "source": [
        "# Define functions to determine whether a tag contains a positive or negative word\n",
        "def contains_negative_words(s):\n",
        "  for word in s.split():\n",
        "    if word in negative_words:\n",
        "      return True\n",
        "  return False \n",
        "\n",
        "def contains_positive_words(s):\n",
        "  for word in s.split():\n",
        "    if word in positive_words:\n",
        "      return True\n",
        "  return False \n",
        "\n",
        "# Creating new columns based on the functions\n",
        "dataframes['tags']['negative_sentiment'] = dataframes['tags']['tag'].apply(lambda x: contains_negative_words(x)) \n",
        "dataframes['tags']['positive_sentiment'] = dataframes['tags']['tag'].apply(lambda x: contains_positive_words(x)) \n"
      ],
      "execution_count": null,
      "outputs": []
    },
    {
      "cell_type": "code",
      "metadata": {
        "id": "oIegE4CxBb9K"
      },
      "source": [
        "# Sample positive sentiment tags\n",
        "print(\"Positive sentiment\")\n",
        "print(dataframes['tags'][['tag', 'positive_sentiment']][dataframes['tags']['positive_sentiment']].head(), \"\\n\")\n",
        "\n",
        "# Sample negative sentiment tags\n",
        "print(\"Negative sentiment\")\n",
        "print(dataframes['tags'][['tag', 'negative_sentiment']][dataframes['tags']['negative_sentiment']].head(), \"\\n\")\n",
        "\n",
        "# Rows with positive AND negative sentiment\n",
        "print(\"Positive AND negative sentiment\")\n",
        "print(dataframes['tags']['tag'][(dataframes['tags']['positive_sentiment']) & (dataframes['tags']['negative_sentiment'])], \"\\n\")"
      ],
      "execution_count": null,
      "outputs": []
    },
    {
      "cell_type": "code",
      "metadata": {
        "id": "aROG8iZXCyXh"
      },
      "source": [
        "# let's mark confused rows appropriately\n",
        "# villain nonexistent or not needed for good story --> positive sentiment\n",
        "dataframes['tags'].iloc[2496, 4] = False\n",
        "dataframes['tags'].iloc[2496, :]"
      ],
      "execution_count": null,
      "outputs": []
    },
    {
      "cell_type": "code",
      "metadata": {
        "id": "pPbStI0oDy6O"
      },
      "source": [
        "# not funny --> negative sentiment\n",
        "dataframes['tags'].iloc[2563, 5] = False\n",
        "dataframes['tags'].iloc[2563, :]"
      ],
      "execution_count": null,
      "outputs": []
    },
    {
      "cell_type": "code",
      "metadata": {
        "id": "IgtwqC4uMkcH"
      },
      "source": [
        "# How many tags with positive/negative sentiment does the movie have?\n",
        "\n",
        "# Defining a dataset with positive tags only\n",
        "print(\"Movies with positive tags:\")\n",
        "positive_tags =  dataframes['tags'][dataframes['tags']['positive_sentiment']]\n",
        "# Grouping by movie and counting\n",
        "num_positive_tags = positive_tags.groupby(['movieId']).size()\n",
        "num_positive_tags = num_positive_tags.to_frame('num_positive_tags')\n",
        "print(num_positive_tags.head(), \"\\n\")\n",
        "\n",
        "\n",
        "# Defining a dataset with negative tags only\n",
        "print(\"Movies with negative tags:\")\n",
        "negative_tags =  dataframes['tags'][dataframes['tags']['negative_sentiment']]\n",
        "# Grouping by movie and counting\n",
        "num_negative_tags = negative_tags.groupby(['movieId']).size()\n",
        "num_negative_tags = num_negative_tags.to_frame('num_negative_tags')\n",
        "print(num_negative_tags.head(), \"\\n\")\n"
      ],
      "execution_count": null,
      "outputs": []
    },
    {
      "cell_type": "code",
      "metadata": {
        "id": "lMqlvXVpQ2bp"
      },
      "source": [
        "# Left Join to add positive/negative sentiment to combined data\n",
        "dataframes['combined'] = dataframes['combined'].join(num_positive_tags, on='movieId',  how='left')\n",
        "dataframes['combined'] = dataframes['combined'].join(num_negative_tags, on='movieId',  how='left')"
      ],
      "execution_count": null,
      "outputs": []
    },
    {
      "cell_type": "code",
      "metadata": {
        "id": "278WSMEZRbam"
      },
      "source": [
        "# Look at sample data\n",
        "cols = ['title', 'year', 'mean_rating', 'num_positive_tags', 'num_negative_tags']\n",
        "dataframes['combined'][cols][(dataframes['combined']['num_positive_tags'] > 0) | (dataframes['combined']['num_negative_tags'] > 0) ].head()"
      ],
      "execution_count": null,
      "outputs": []
    },
    {
      "cell_type": "code",
      "metadata": {
        "id": "j-8vRQ4vR6s4"
      },
      "source": [
        "# Fill NaN with 0\n",
        "dataframes['combined'] = dataframes['combined'].fillna(0)\n",
        "\n",
        "# Look at sample data again\n",
        "dataframes['combined'][cols][(dataframes['combined']['num_positive_tags'] > 0) | (dataframes['combined']['num_negative_tags'] > 0) ].head()"
      ],
      "execution_count": null,
      "outputs": []
    },
    {
      "cell_type": "code",
      "metadata": {
        "id": "ISOXP_jXLhpv"
      },
      "source": [
        "# If a move had positive sentiment, did it rate high?\n",
        "\n",
        "# take movies with positive tags and no negative tags\n",
        "positives = dataframes['combined'][(dataframes['combined']['num_positive_tags'] > 0) & (dataframes['combined']['num_negative_tags'] == 0)]\n",
        "positives['mean_rating'].describe()"
      ],
      "execution_count": null,
      "outputs": []
    },
    {
      "cell_type": "code",
      "metadata": {
        "id": "27hHIKFVR_GZ"
      },
      "source": [
        "# if a movie had negative sentiment, did it rate low?\n",
        "\n",
        "# take movies with negative tags and no positive tags\n",
        "negatives = dataframes['combined'][(dataframes['combined']['num_negative_tags'] > 0) & (dataframes['combined']['num_positive_tags'] == 0)]\n",
        "negatives['mean_rating'].describe()"
      ],
      "execution_count": null,
      "outputs": []
    },
    {
      "cell_type": "markdown",
      "metadata": {
        "id": "4Vp2iaeauU_4"
      },
      "source": [
        "# Visualize"
      ]
    },
    {
      "cell_type": "markdown",
      "metadata": {
        "id": "Ch_pZuV5wD_V"
      },
      "source": [
        "## Basic Skills"
      ]
    },
    {
      "cell_type": "markdown",
      "metadata": {
        "id": "1FLKoUfMugNK"
      },
      "source": [
        "Before we start, let's go over some important visualization skills.\n",
        "We'll use built in capabilities pandas has, but many other libraries are also available to use for creating graphs!\n",
        "\n",
        "* line chart\n",
        "* bar chart\n",
        "* pie chart\n",
        "* scatter plot"
      ]
    },
    {
      "cell_type": "code",
      "metadata": {
        "id": "IKgqnBXlxpOe"
      },
      "source": [
        "# Define a sample dataframe:\n",
        "\n",
        "list_of_lists = [\n",
        "    ['2021-04-01', 60304, 42005, 26067, 70809], \n",
        "    ['2021-04-02', 61758, 40294, 25003, 70300], \n",
        "    ['2021-04-03', 65336, 49384, 23928, 71500], \n",
        "    ['2021-04-04', 59003, 46493, 23049, 69002], \n",
        "    ['2021-04-05', 62507, 42287, 24578, 72493], \n",
        "    ['2021-04-06', 61984, 45539, 26002, 71394], \n",
        "    ['2021-04-07', 62679, 41393, 25993, 70823], \n",
        "]\n",
        "  \n",
        "# Create the pandas DataFrame\n",
        "df = pd.DataFrame(list_of_lists, columns = ['ds', 'Instagram', 'Facebook', 'Messenger', 'Whatsapp'])\n",
        "\n",
        "# Look at a sample of the data\n",
        "print(\"Data describing total users by app in Raanana (not really!)\")\n",
        "df.head()"
      ],
      "execution_count": null,
      "outputs": []
    },
    {
      "cell_type": "code",
      "metadata": {
        "id": "wqjON1wN0Ll1"
      },
      "source": [
        "df = df.set_index('ds')\n",
        "df.head()"
      ],
      "execution_count": null,
      "outputs": []
    },
    {
      "cell_type": "markdown",
      "metadata": {
        "id": "jBx15XLMv_Eb"
      },
      "source": [
        "### Line Chart\n",
        "* Documentation: https://pandas.pydata.org/docs/reference/api/pandas.DataFrame.plot.line.html"
      ]
    },
    {
      "cell_type": "code",
      "metadata": {
        "id": "3jU6kSB4KUTb"
      },
      "source": [
        "# Use pandas to plot a line chart\n",
        "ax = df.plot.line()"
      ],
      "execution_count": null,
      "outputs": []
    },
    {
      "cell_type": "code",
      "metadata": {
        "id": "xh5Q21nhw4BD"
      },
      "source": [
        "# Let's rotate the x axis labels, they're on top of each other!\n",
        "ax = df.plot.line(rot=60)\n"
      ],
      "execution_count": null,
      "outputs": []
    },
    {
      "cell_type": "code",
      "metadata": {
        "id": "ggzjgovELHSc"
      },
      "source": [
        "# Plot a line with a specific title and figure size\n",
        "ax = df.plot.line(title=\"Total users by app in Raanana (April 2021)\", figsize=(10,5), rot=90)\n",
        "\n",
        "# Add x, y labels to our graph\n",
        "ax.set_xlabel(\"date\")\n",
        "ax.set_ylabel(\"num_users\")\n"
      ],
      "execution_count": null,
      "outputs": []
    },
    {
      "cell_type": "markdown",
      "metadata": {
        "id": "WEk7wT5n2CVH"
      },
      "source": [
        "### Bar Chart\n",
        "Documentation: https://pandas.pydata.org/docs/reference/api/pandas.DataFrame.plot.bar.html"
      ]
    },
    {
      "cell_type": "code",
      "metadata": {
        "id": "sacGyzU3MhE8"
      },
      "source": [
        "# Use pandas to plot a bar chart\n",
        "ax = df.plot.bar()"
      ],
      "execution_count": null,
      "outputs": []
    },
    {
      "cell_type": "code",
      "metadata": {
        "id": "6h5DYMXYNY2S"
      },
      "source": [
        "# Add title and figure size\n",
        "ax = df.plot.bar(title=\"Total users by app in Raanana (April 2021)\", figsize=(10,5))\n",
        "\n",
        "# add x, y labels\n",
        "ax.set_xlabel(\"date\")\n",
        "ax.set_ylabel(\"num_users\")"
      ],
      "execution_count": null,
      "outputs": []
    },
    {
      "cell_type": "code",
      "metadata": {
        "id": "07njpNKtNpQK"
      },
      "source": [
        "# plot the bars stacked\n",
        "ax = df.plot.bar(title=\"Total users by app in Raanana (April 2021)\", figsize=(10,5), stacked=True)\n",
        "\n",
        "# add x, y labels\n",
        "ax.set_xlabel(\"date\")\n",
        "ax.set_ylabel(\"num_users\")"
      ],
      "execution_count": null,
      "outputs": []
    },
    {
      "cell_type": "markdown",
      "metadata": {
        "id": "1t8D1Z86INue"
      },
      "source": [
        "### Pie Charts\n",
        "* Documentation: https://pandas.pydata.org/docs/reference/api/pandas.DataFrame.plot.pie.html"
      ]
    },
    {
      "cell_type": "code",
      "metadata": {
        "id": "yO0_Gu7vxY9h"
      },
      "source": [
        "# Create the pandas DataFrame\n",
        "df = pd.DataFrame(\n",
        "      {'number_of_users': [60304, 42005, 26067, 70809]}, \n",
        "      index=['Instagram', 'Facebook', 'Messenger', 'Whatsapp']\n",
        "    )\n"
      ],
      "execution_count": null,
      "outputs": []
    },
    {
      "cell_type": "code",
      "metadata": {
        "id": "zfoz9CVcIBWq"
      },
      "source": [
        "# Plot a pie chart (built in in pandas)\n",
        "plot = df.plot.pie(y='number_of_users', figsize=(7, 7 ))\n"
      ],
      "execution_count": null,
      "outputs": []
    },
    {
      "cell_type": "markdown",
      "metadata": {
        "id": "EutCxeRC6b7k"
      },
      "source": [
        "### Scatter Plot\n",
        "* Documentation: https://pandas.pydata.org/docs/reference/api/pandas.DataFrame.plot.scatter.html"
      ]
    },
    {
      "cell_type": "code",
      "metadata": {
        "id": "Tf6jTdGoPIyt"
      },
      "source": [
        "# Example from documentation!\n",
        "# Define a dataframe\n",
        "df = pd.DataFrame([[5.1, 3.5, 0], [4.9, 3.0, 0], [7.0, 3.2, 1],\n",
        "                   [6.4, 3.2, 1], [5.9, 3.0, 2]],\n",
        "                  columns=['length', 'width', 'species'])\n"
      ],
      "execution_count": null,
      "outputs": []
    },
    {
      "cell_type": "code",
      "metadata": {
        "id": "rvXhlc3xeTOB"
      },
      "source": [
        "# Scatter plot for a graph with x, y axes\n",
        "ax = df.plot.scatter(x='length', y='width')"
      ],
      "execution_count": null,
      "outputs": []
    },
    {
      "cell_type": "code",
      "metadata": {
        "id": "WE4CgOSnegrG"
      },
      "source": [
        "# Categorize the dataset by adding a color dimension\n",
        "ax = df.plot.scatter(x='length', y='width', c='species', colormap='viridis')"
      ],
      "execution_count": null,
      "outputs": []
    },
    {
      "cell_type": "markdown",
      "metadata": {
        "id": "8gBJ06FRPh5B"
      },
      "source": [
        "##Visualizing Our Dataset\n",
        "Last lesson we transformed the movies dataset. This lesson we'll ask questions about the data and answer them visually"
      ]
    },
    {
      "cell_type": "markdown",
      "metadata": {
        "id": "D0agYJ7pP5YI"
      },
      "source": [
        "### **Asking Questions**\n",
        "\n",
        "We can often ask specific questions about a dataset and then generalize them into questions to be answered with graphs.\n",
        "\n",
        "* How many movies from 2007 does this dataset have? --> **How many movies are available in the dataset per year?**\n",
        "* How many movie ratings do we have for old movies?/new movies? --> **How many ratings do we have per year?**\n",
        "* What is the mean movie rating for old movies?/new movies? --> **What is the mean movie rating per year?**\n",
        "* Do newer movies have more tags than older movies? --> **How many tags do we have per movie year?**\n",
        "* Does our dataset have more comedies than action films? --> **How many movies do we have per genre?**\n",
        "* Are comedies rated higher than action films? --> **What is the mean/median rating per genre?**"
      ]
    },
    {
      "cell_type": "markdown",
      "metadata": {
        "id": "PHMhYn4fSyBK"
      },
      "source": [
        "###**How many movies are available in the dataset per year?**\n"
      ]
    },
    {
      "cell_type": "code",
      "metadata": {
        "id": "6IzWimMRj8eX"
      },
      "source": [
        "dataframes['combined'].head()"
      ],
      "execution_count": null,
      "outputs": []
    },
    {
      "cell_type": "code",
      "metadata": {
        "id": "4w6s97GWR2w1"
      },
      "source": [
        "# Group a subset of the data by year and count\n",
        "df = dataframes['combined'][['year']].groupby(['year']).size()\n",
        "df"
      ],
      "execution_count": null,
      "outputs": []
    },
    {
      "cell_type": "code",
      "metadata": {
        "id": "czurFjuTTDz5"
      },
      "source": [
        "# Use pandas to plot a line chart with a title and specific size\n",
        "ax = df.plot.line(title=\"Number of Movies per Year\", figsize=(10,5))\n",
        "\n",
        "# Add x, y labels\n",
        "ax.set_xlabel('year')\n",
        "ax.set_ylabel('number of movies')"
      ],
      "execution_count": null,
      "outputs": []
    },
    {
      "cell_type": "code",
      "metadata": {
        "id": "nxct9L1CTKv8"
      },
      "source": [
        "# Oh no! The scale of our graph looks bad because of the -1 values\n",
        "# Let's remove them and try again\n",
        "df = df.drop(df.index[0])\n",
        "df.head()"
      ],
      "execution_count": null,
      "outputs": []
    },
    {
      "cell_type": "code",
      "metadata": {
        "id": "f1pt2hEXUVp4"
      },
      "source": [
        "# Use pandas to plot a line chart with a title and specific size\n",
        "ax = df.plot.line(title=\"Number of Movies per Year\", figsize=(10,5))\n",
        "\n",
        "# Add x, y labels\n",
        "ax.set_xlabel('year')\n",
        "ax.set_ylabel('number of movies')"
      ],
      "execution_count": null,
      "outputs": []
    },
    {
      "cell_type": "code",
      "metadata": {
        "id": "W_4jvn7uw3Rl"
      },
      "source": [
        "# Another option: plot in a pie chart\n",
        "ax = df.plot.pie(y='number of movies by year', figsize=(10,5))"
      ],
      "execution_count": null,
      "outputs": []
    },
    {
      "cell_type": "code",
      "metadata": {
        "id": "GPpUTBeBw7ok"
      },
      "source": [
        "# Wow that's a bit too much on the eyes!!\n",
        "# Let's use the year groups we defined last class to make this less intense\n",
        "\n",
        "df = dataframes['combined'].groupby(['year_bucket']).size()\n",
        "\n",
        "ax = df.plot.pie(title=\"number of movies per year_bucket\", figsize=(10,5))"
      ],
      "execution_count": null,
      "outputs": []
    },
    {
      "cell_type": "code",
      "metadata": {
        "id": "Q4eCsha-1BqC"
      },
      "source": [
        "# That 'None' on the side is happening because we have a series, not a dataframe, and didn't specify a y column\n",
        "\n",
        "print(\"How does this dataset look?\")\n",
        "print(df.head(), \"\\n\")\n",
        "\n",
        "print(\"Is it a dataframe?\")\n",
        "print(isinstance(df, pd.DataFrame))\n",
        "\n",
        "print(\"Is it a series?\")\n",
        "print(isinstance(df, pd.Series))"
      ],
      "execution_count": null,
      "outputs": []
    },
    {
      "cell_type": "code",
      "metadata": {
        "id": "e05fqIvZ1Itg"
      },
      "source": [
        "# Let's remove it!\n",
        "\n",
        "ax = df.plot.pie(title=\"number of movies per year_bucket\", figsize=(10,5), label='')"
      ],
      "execution_count": null,
      "outputs": []
    },
    {
      "cell_type": "code",
      "metadata": {
        "id": "DeEi-GNvzSMe"
      },
      "source": [
        "# Let's edit this pie a bit more...\n",
        "\n",
        "# Add a lenged instead of labels\n",
        "# Pretty colors\n",
        "\n",
        "colors_list = ['violet', 'indigo', 'blue', 'green', 'yellow', 'orange', 'red', 'pink'] #rainbow!\n",
        "ax = df.plot.pie(title=\"number of movies per year_bucket\", figsize=(10,5), labeldistance=None, legend=True, label='', colors=colors_list)"
      ],
      "execution_count": null,
      "outputs": []
    },
    {
      "cell_type": "markdown",
      "metadata": {
        "id": "_Fb3HrRFUlwp"
      },
      "source": [
        "###**How many ratings do we have per movie year?**"
      ]
    },
    {
      "cell_type": "code",
      "metadata": {
        "id": "3AMcchurUkRy"
      },
      "source": [
        "# summarize the total ratings per year\n",
        "df = dataframes['combined'][['year', 'num_ratings']].groupby(['year']).sum()\n",
        "\n",
        "# remove year = -1\n",
        "df = df.drop(df.index[0])\n",
        "\n",
        "# display a sample of the data\n",
        "df.head()"
      ],
      "execution_count": null,
      "outputs": []
    },
    {
      "cell_type": "code",
      "metadata": {
        "id": "xqTHFei6Vh4h"
      },
      "source": [
        "# use pandas to plot a line chart with a title and specific size\n",
        "ax = df.plot.line(title=\"Number of Ratings per Year\", figsize=(10,5))\n",
        "\n",
        "# # add x, y labels\n",
        "ax.set_xlabel('year')\n",
        "ax.set_ylabel('number of ratings')"
      ],
      "execution_count": null,
      "outputs": []
    },
    {
      "cell_type": "markdown",
      "metadata": {
        "id": "R2PAWJfOXIMC"
      },
      "source": [
        "###**What is the mean movie rating per year?**"
      ]
    },
    {
      "cell_type": "code",
      "metadata": {
        "id": "HENATpHmW9LR"
      },
      "source": [
        "# Our rating is actually the mean rating per movie, so we'll answer with mean of means...\n",
        "\n",
        "# Mean ratings per year\n",
        "df = dataframes['combined'][['year', 'mean_rating']].groupby(['year']).mean()\n",
        "\n",
        "# Remove year = -1\n",
        "df = df.drop(df.index[0])\n",
        "\n",
        "# Display a sample of the data\n",
        "df.head()"
      ],
      "execution_count": null,
      "outputs": []
    },
    {
      "cell_type": "code",
      "metadata": {
        "id": "w_Tnp9iFYle3"
      },
      "source": [
        "# Use pandas to plot a line chart with a title and specific size\n",
        "ax = df.plot.line(title=\"Mean rating per Year\", figsize=(10,5))\n",
        "\n",
        "# Ydd x, y labels\n",
        "ax.set_xlabel('year')\n",
        "ax.set_ylabel('mean rating')"
      ],
      "execution_count": null,
      "outputs": []
    },
    {
      "cell_type": "markdown",
      "metadata": {
        "id": "JMYJTNNcZxe6"
      },
      "source": [
        "###**How many movies do we have per genre?**"
      ]
    },
    {
      "cell_type": "code",
      "metadata": {
        "id": "mF_xXw3hkpor"
      },
      "source": [
        "# Simple approach: bar chart broken down by genre\n",
        "print(\"Grouping dataframe by genre and counting the results:\")\n",
        "df = dataframes['combined'].groupby('genres').size()\n",
        "print(df.head(), \"\\n\")\n",
        "\n",
        "# Plotting into a bar chart\n",
        "print(\"Creating a bar chart based on results:\")\n",
        "ax = df.plot.bar(title=\"Number of movies by genre\", figsize=(10,5), rot=60)"
      ],
      "execution_count": null,
      "outputs": []
    },
    {
      "cell_type": "code",
      "metadata": {
        "id": "yiC1MjPik_4F"
      },
      "source": [
        "# So this would work well if each movie had only one genre! \n",
        "# But each movie can have several genres! We don't want do break down resluts by genre groups..."
      ],
      "execution_count": null,
      "outputs": []
    },
    {
      "cell_type": "code",
      "metadata": {
        "id": "aoCZVgX8Z1sM"
      },
      "source": [
        "# We need to transform our dataset to support this.\n",
        "# Methodology: \n",
        "# 1. Let's define a list of all genres\n",
        "# 2. Add a column per genre in order to categorize each movie as belonging to the genre or not\n",
        "\n",
        "# Define a list of genres:\n",
        "genres = [\n",
        "  'Action',\n",
        "  'Adventure',\n",
        "  'Animation',\n",
        "  'Children',\n",
        "  'Comedy',\n",
        "  'Crime',\n",
        "  'Documentary',\n",
        "  'Drama',\n",
        "  'Fantasy',\n",
        "  'Film-Noir',\n",
        "  'Horror',\n",
        "  'Musical',\n",
        "  'Mystery',\n",
        "  'Romance',\n",
        "  'Sci-Fi',\n",
        "  'Thriller',\n",
        "  'War',\n",
        "  'Western'\n",
        "]\n",
        "\n",
        "for genre in genres:\n",
        "  dataframes['combined']['is_{}'.format(genre.lower())] = dataframes['combined']['genres'].apply(lambda x: True if genre in x else False)\n"
      ],
      "execution_count": null,
      "outputs": []
    },
    {
      "cell_type": "code",
      "metadata": {
        "id": "s5-F2gp6bkcH"
      },
      "source": [
        "# Let's see a sample of our df now\n",
        "dataframes['combined'].head()"
      ],
      "execution_count": null,
      "outputs": []
    },
    {
      "cell_type": "code",
      "metadata": {
        "id": "NX_GSP61ejJR"
      },
      "source": [
        "# So now we can easily plot per category!\n",
        "\n",
        "# Let's look at 'comedy' movies in a bar chart\n",
        "ax = dataframes['combined']['is_documentary'].value_counts().plot.bar(title=\"is_comedy?\")\n"
      ],
      "execution_count": null,
      "outputs": []
    },
    {
      "cell_type": "code",
      "metadata": {
        "id": "txsbZZtnbuHX"
      },
      "source": [
        "# Let's look at 'comedy' movies in a pie chart\n",
        "ax1 = dataframes['combined']['is_comedy'].value_counts().plot.pie(title=\"is_comedy?\")"
      ],
      "execution_count": null,
      "outputs": []
    },
    {
      "cell_type": "code",
      "metadata": {
        "id": "wYVhCWi-i27F"
      },
      "source": [
        "# Let's combine all the true value counts per genre into one new dataframe, and graph with it"
      ],
      "execution_count": null,
      "outputs": []
    },
    {
      "cell_type": "code",
      "metadata": {
        "id": "O9OL8TVdiCNH"
      },
      "source": [
        "# What is dataframes['combined']['is_comedy'].value_counts()?\n",
        "\n",
        "a = dataframes['combined']['is_comedy'].value_counts()\n",
        "print(\"How does this dataset look?\")\n",
        "print(a.head(), \"\\n\")\n",
        "\n",
        "print(\"Is it a dataframe?\")\n",
        "print(isinstance(a, pd.DataFrame))\n",
        "\n",
        "print(\"Is it a series?\")\n",
        "print(isinstance(a, pd.Series))\n"
      ],
      "execution_count": null,
      "outputs": []
    },
    {
      "cell_type": "code",
      "metadata": {
        "id": "PpOU-GCujP8q"
      },
      "source": [
        "# So let's give the index and values a name and turn it into a dataframe\n",
        "b = pd.DataFrame({'boolean':a.index, 'counts':a.values})\n",
        "\n",
        "# Let's look at sample data now:\n",
        "b.head()"
      ],
      "execution_count": null,
      "outputs": []
    },
    {
      "cell_type": "code",
      "metadata": {
        "id": "RIAkcpbYkbW5"
      },
      "source": [
        "# looping over the genres list\n",
        "for x in range(0, len(genres)):\n",
        "  # defining a genre based on the list index\n",
        "  genre = genres[x].lower()\n",
        "  # per genre, using the is_<genre> colum to count the total movies in it\n",
        "  genre_df_prep = dataframes['combined']['is_{}'.format(genre)].value_counts()\n",
        "  # converting the results to a dataframe with \"boolean\" and \"counts\" columns\n",
        "  genre_df_prep = pd.DataFrame({'boolean':genre_df_prep.index, 'counts':genre_df_prep.values})\n",
        "  # specifying which genre we handled\n",
        "  genre_df_prep['genre'] = genre\n",
        "  # if this is the first genre, create a new df, genre_df\n",
        "  if x == 0:\n",
        "    # genre df will store True values\n",
        "    genre_df = genre_df_prep[genre_df_prep['boolean']]\n",
        "  else:\n",
        "    temp_df = genre_df_prep[genre_df_prep['boolean']]\n",
        "    genre_df = pd.concat([genre_df, temp_df])\n",
        "\n",
        "\n",
        "genre_df.head()"
      ],
      "execution_count": null,
      "outputs": []
    },
    {
      "cell_type": "code",
      "metadata": {
        "id": "qpx-vaQm7l3H"
      },
      "source": [
        "# Plot all genres in a bar plot\n",
        "ax = genre_df[['genre', 'counts']].set_index('genre').plot.bar(title=\"Total movies per genre\", figsize=(10,5))\n"
      ],
      "execution_count": null,
      "outputs": []
    },
    {
      "cell_type": "code",
      "metadata": {
        "id": "EMyfyJXR9Hdv"
      },
      "source": [
        "# let's get this sorted\n",
        "sorted_df = genre_df[['genre', 'counts']].set_index('genre').sort_values(by=['counts'])\n",
        "ax = sorted_df.plot.bar(title=\"Total movies per genre\", figsize=(10,5))"
      ],
      "execution_count": null,
      "outputs": []
    },
    {
      "cell_type": "code",
      "metadata": {
        "id": "NsK6b5HD9zlb"
      },
      "source": [
        "# add x, y labels\n",
        "ax.set_xlabel(\"genre\")\n",
        "\n",
        "# removing the legend\n",
        "ax = sorted_df.plot.bar(title=\"Total movies per genre\", figsize=(10,5), legend=False)"
      ],
      "execution_count": null,
      "outputs": []
    },
    {
      "cell_type": "markdown",
      "metadata": {
        "id": "Rh2fkqdGezLk"
      },
      "source": [
        "###**What is the mean rating per genre?**"
      ]
    },
    {
      "cell_type": "code",
      "metadata": {
        "id": "-qtMZ5y7e_Fl"
      },
      "source": [
        "# We basically need to a very similar thing.\n",
        "# If we have to repeat code to do similar things, let's write a fuction to repeat things for us!\n",
        "\n",
        "def plot_data_by_genre(title, column_name_in_combined_df, column_name_to_graph, action):\n",
        "  # looping over the genres list\n",
        "  for x in range(0, len(genres)):\n",
        "    # preparing the df\n",
        "    genre = genres[x].lower()\n",
        "    genre_df_prep =  dataframes['combined'][dataframes['combined']['is_{}'.format(genre)]]\n",
        "    if x == 0:\n",
        "      genre_df = pd.DataFrame(pd.DataFrame({'genre':[genre], column_name_to_graph:[getattr(genre_df_prep[column_name_in_combined_df], action)()]}))\n",
        "    else:\n",
        "      temp_df = pd.DataFrame(pd.DataFrame({'genre':[genre], column_name_to_graph:[getattr(genre_df_prep[column_name_in_combined_df], action)()]}))\n",
        "      genre_df = pd.concat([genre_df, temp_df])\n",
        "    \n",
        "  #plotting the data\n",
        "  sorted_df = genre_df[['genre', column_name_to_graph]].set_index('genre').sort_values(by=[column_name_to_graph])\n",
        "  ax = sorted_df.plot.bar(title=title, figsize=(10,5))\n",
        "\n"
      ],
      "execution_count": null,
      "outputs": []
    },
    {
      "cell_type": "code",
      "metadata": {
        "id": "1mZA7_QUpFKp"
      },
      "source": [
        "# Let's run our function\n",
        "\n",
        "plot_data_by_genre(\"Mean rating per genre\", \"mean_rating\", \"mean_mean_rating\", \"mean\")"
      ],
      "execution_count": null,
      "outputs": []
    },
    {
      "cell_type": "code",
      "metadata": {
        "id": "3_lWQwY5sDb0"
      },
      "source": [
        "# I'm not loving the scale of y axis... \n",
        "# Most results are between 2.5-4 but we look at 0-5 values, so differences appear minor\n",
        "# Let's edit our funciton to support y limits \n",
        "\n",
        "def plot_data_by_genre(title, column_name_in_combined_df, column_name_to_graph, action, ylimit=[]):\n",
        "  # looping over the genres list\n",
        "  for x in range(0, len(genres)):\n",
        "    # preparing the df\n",
        "    genre = genres[x].lower()\n",
        "    genre_df_prep =  dataframes['combined'][dataframes['combined']['is_{}'.format(genre)]]\n",
        "    if x == 0:\n",
        "      genre_df = pd.DataFrame(pd.DataFrame({'genre':[genre], column_name_to_graph:[getattr(genre_df_prep[column_name_in_combined_df], action)()]}))\n",
        "    else:\n",
        "      temp_df = pd.DataFrame(pd.DataFrame({'genre':[genre], column_name_to_graph:[getattr(genre_df_prep[column_name_in_combined_df], action)()]}))\n",
        "      genre_df = pd.concat([genre_df, temp_df])\n",
        "    \n",
        "  #plotting the data\n",
        "  sorted_df = genre_df[['genre', column_name_to_graph]].set_index('genre').sort_values(by=[column_name_to_graph])\n",
        "  if len(ylimit) > 0:\n",
        "    ax = sorted_df.plot.bar(title=title, figsize=(10,5), ylim=ylimit)\n",
        "  else:\n",
        "    ax = sorted_df.plot.bar(title=title, figsize=(10,5))\n",
        "\n"
      ],
      "execution_count": null,
      "outputs": []
    },
    {
      "cell_type": "code",
      "metadata": {
        "id": "WXIRFeVNsJdO"
      },
      "source": [
        "plot_data_by_genre(\"Mean rating per genre\", \"mean_rating\", \"mean_mean_rating\", \"mean\", ylimit=[2.5, 4])"
      ],
      "execution_count": null,
      "outputs": []
    },
    {
      "cell_type": "code",
      "metadata": {
        "id": "COT4xWo_tLM0"
      },
      "source": [
        "# let's run our function with some other parameters!"
      ],
      "execution_count": null,
      "outputs": []
    },
    {
      "cell_type": "code",
      "metadata": {
        "id": "KLZqFQI7sJgs"
      },
      "source": [
        "# Median mean rating\n",
        "plot_data_by_genre(\"Median mean rating per genre\", \"mean_rating\", \"median_mean_rating\", \"median\")"
      ],
      "execution_count": null,
      "outputs": []
    },
    {
      "cell_type": "code",
      "metadata": {
        "id": "viMOeAGMtOOX"
      },
      "source": [
        "# Min mean rating\n",
        "plot_data_by_genre(\"Min mean rating per genre\", \"mean_rating\", \"min_mean_rating\", \"min\")"
      ],
      "execution_count": null,
      "outputs": []
    },
    {
      "cell_type": "code",
      "metadata": {
        "id": "n2BB1l85tZpT"
      },
      "source": [
        "# Max mean rating\n",
        "plot_data_by_genre(\"Max mean rating per genre\", \"mean_rating\", \"max_mean_rating\", \"max\")"
      ],
      "execution_count": null,
      "outputs": []
    },
    {
      "cell_type": "code",
      "metadata": {
        "id": "8U7JhuUctgqP"
      },
      "source": [
        "# And just to show our counts option works with this function too\n",
        "plot_data_by_genre(\"Number of movies by genre\", \"title\", \"number of movies\", \"count\")"
      ],
      "execution_count": null,
      "outputs": []
    }
  ]
}